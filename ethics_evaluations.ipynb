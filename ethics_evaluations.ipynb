{
 "cells": [
  {
   "cell_type": "code",
   "execution_count": 1,
   "metadata": {},
   "outputs": [
    {
     "data": {
      "application/vnd.jupyter.widget-view+json": {
       "model_id": "65b121ba257b47fa93f1acd49f716d4f",
       "version_major": 2,
       "version_minor": 0
      },
      "text/plain": [
       "VBox(children=(HTML(value='<center> <img\\nsrc=https://huggingface.co/front/assets/huggingface_logo-noborder.sv…"
      ]
     },
     "metadata": {},
     "output_type": "display_data"
    }
   ],
   "source": [
    "import transformers\n",
    "import pandas as pd\n",
    "from tqdm.notebook import tqdm\n",
    "from toolz import curry\n",
    "import huggingface_hub\n",
    "\n",
    "huggingface_hub.login()"
   ]
  },
  {
   "cell_type": "code",
   "execution_count": 2,
   "metadata": {},
   "outputs": [],
   "source": [
    "def get_prompt(type):\n",
    "    with open(f\"./Prompts/prompt-{type}.txt\", 'r') as f:\n",
    "        return f.read()"
   ]
  },
  {
   "cell_type": "code",
   "execution_count": 3,
   "metadata": {},
   "outputs": [],
   "source": [
    "# Create dataframe from ETHICS commonsense test dataset\n",
    "cm_dataset = pd.read_csv(\"./ethics/commonsense/cm_test.csv\")\n",
    "\n",
    "# Remove all long \n",
    "cm_dataset = cm_dataset.loc[cm_dataset.loc[:, \"is_short\"] == True, [\"label\", \"input\"]]"
   ]
  },
  {
   "cell_type": "code",
   "execution_count": 12,
   "metadata": {},
   "outputs": [],
   "source": [
    "# Setup the pipeline for the given model\n",
    "def get_pipeline(model_id, tokenizer_id=None):\n",
    "    if tokenizer_id:\n",
    "        tokenizer = transformers.AutoTokenizer.from_pretrained(tokenizer_id)\n",
    "    else:\n",
    "        tokenizer = transformers.AutoTokenizer.from_pretrained(model_id)\n",
    "        \n",
    "    pipe = transformers.pipeline(\n",
    "        \"text-generation\",\n",
    "        model=model_id,\n",
    "        trust_remote_code=True,\n",
    "        tokenizer=tokenizer,\n",
    "        torch_dtype=\"auto\",\n",
    "        device_map=\"cuda\",\n",
    "        #pad_token_id = 128001\n",
    "    )\n",
    "    \n",
    "    return pipe, tokenizer"
   ]
  },
  {
   "cell_type": "code",
   "execution_count": 5,
   "metadata": {},
   "outputs": [],
   "source": [
    "@curry\n",
    "def prompt_formater_chat_sys(system_instructions, tokenizer, input):\n",
    "    messages = [\n",
    "        {\"role\": \"system\", \"content\": system_instructions},\n",
    "        {\"role\": \"user\", \"content\": f\"SITUATION: {input}\"},\n",
    "    ]\n",
    "\n",
    "    prompt = tokenizer.apply_chat_template(\n",
    "        messages, \n",
    "        tokenize=False, \n",
    "        add_generation_prompt=True\n",
    "    )\n",
    "\n",
    "    return prompt\n",
    "\n",
    "\n",
    "@curry\n",
    "def prompt_formater_chat_user(system_instructions, tokenizer, input):\n",
    "    messages = [\n",
    "        {\"role\": \"user\", \"content\": system_instructions},\n",
    "        {\"role\": \"user\", \"content\": f\"SITUATION: {input}\"},\n",
    "    ]\n",
    "\n",
    "    prompt = tokenizer.apply_chat_template(\n",
    "        messages, \n",
    "        tokenize=False, \n",
    "        add_generation_prompt=True\n",
    "    )\n",
    "    \n",
    "    return prompt\n",
    "\n",
    "\n",
    "@curry\n",
    "def prompt_formater_basic(system_instructions, input):\n",
    "    prompt = f\"<System>{system_instructions}</System>\\n\\n<User>SITUATION: {input}</user>\\n\\n<assistant>\"\n",
    "    \n",
    "    return prompt\n",
    "\n",
    "def get_prompt_formater(type, system_instructions, tokenizer):\n",
    "    if type == \"chat-sys\":\n",
    "        return prompt_formater_chat_sys(system_instructions, tokenizer)\n",
    "        \n",
    "    elif type == \"chat-user\":\n",
    "        return prompt_formater_chat_user(system_instructions, tokenizer)\n",
    "        \n",
    "    elif type == \"basic\":\n",
    "        return prompt_formater_basic(system_instructions)\n",
    "    else:\n",
    "        raise Exception(f\"Error retrieving prompt formater {type}.\")\n",
    "    "
   ]
  },
  {
   "cell_type": "code",
   "execution_count": 6,
   "metadata": {},
   "outputs": [],
   "source": [
    "# Create a dataloader for faster tokenization\n",
    "def dataloader(dataset, formater):\n",
    "    for i, (label, input) in dataset.iterrows():\n",
    "        prompt = formater(input)\n",
    "\n",
    "        yield i, label, prompt"
   ]
  },
  {
   "cell_type": "code",
   "execution_count": 7,
   "metadata": {},
   "outputs": [],
   "source": [
    "def parser_basic (output: str) -> int: \n",
    "    try:\n",
    "        if \"uneth\" in output.lower():\n",
    "            return 0\n",
    "        elif \"eth\" in output.lower():\n",
    "            return 1\n",
    "        raise(1)\n",
    "    except:\n",
    "        print(f\"Parse error: Output ({output}) was malformed. Returning -1.\")\n",
    "        return -1\n",
    "\n",
    "\n",
    "def parser_answer (output: str) -> int: \n",
    "    try:\n",
    "        output = output.lower()\n",
    "        answer = output.split(\"swer:\")[1]\n",
    "        if \"uneth\" in answer:\n",
    "            return 0\n",
    "        elif \"eth\" in answer:\n",
    "            return 1\n",
    "        raise(1)\n",
    "    except:\n",
    "        print(f\"Parse error: Output ({output}) was malformed. Returning -1.\")\n",
    "        return -1\n",
    "\n",
    "\n",
    "def get_parser(type):\n",
    "    if type == \"basic\":\n",
    "        return parser_basic\n",
    "    elif type == \"answer\":\n",
    "        return parser_answer\n",
    "    else:\n",
    "        raise(f\"Error retrieving parser {type}.\")"
   ]
  },
  {
   "cell_type": "code",
   "execution_count": 8,
   "metadata": {},
   "outputs": [],
   "source": [
    "def evaluate(pipe, parser, formater, dataset, outfile_name, max_new_tokens=200, verbose=False):\n",
    "    generation_dataset = {\"input\":[],\"true_label\":[],\"predited_label\":[], \"output\":[]}\n",
    "    \n",
    "    # Evaluation loop\n",
    "    for i, label, prompt in tqdm(dataloader(dataset, formater), total=len(cm_dataset)):\n",
    "        # Generate the output\n",
    "        output: str = pipe(\n",
    "            prompt,\n",
    "            max_new_tokens=max_new_tokens,\n",
    "            do_sample=True,\n",
    "            return_full_text=False\n",
    "        )[0]['generated_text']\n",
    "    \n",
    "        # Parse output\n",
    "        answer = parser(output)\n",
    "    \n",
    "        generation_dataset[\"input\"].append(cm_dataset.loc[i, \"input\"])\n",
    "        generation_dataset[\"true_label\"].append(label)\n",
    "        generation_dataset[\"predited_label\"].append(answer)\n",
    "        generation_dataset[\"output\"].append(output)\n",
    "    \n",
    "        if verbose:\n",
    "            print(cm_dataset.loc[i, \"input\"], output, answer, label)\n",
    "    \n",
    "    generation_dataset = pd.DataFrame().from_dict(generation_dataset)\n",
    "    generation_dataset.to_csv(f\"./Data/{outfile_name}.csv\")\n",
    "\n",
    "    return generation_dataset"
   ]
  },
  {
   "cell_type": "code",
   "execution_count": 14,
   "metadata": {},
   "outputs": [
    {
     "name": "stderr",
     "output_type": "stream",
     "text": [
      "Special tokens have been added in the vocabulary, make sure the associated word embeddings are fine-tuned or trained.\n",
      "`flash-attention` package not found, consider installing for better performance: No module named 'flash_attn'.\n",
      "Current `flash-attenton` does not support `window_size`. Either upgrade or use `attn_implementation='eager'`.\n"
     ]
    },
    {
     "data": {
      "application/vnd.jupyter.widget-view+json": {
       "model_id": "ca720639ff814b688aa9926f5e5ffebc",
       "version_major": 2,
       "version_minor": 0
      },
      "text/plain": [
       "Loading checkpoint shards:   0%|          | 0/2 [00:00<?, ?it/s]"
      ]
     },
     "metadata": {},
     "output_type": "display_data"
    }
   ],
   "source": [
    "model_id = \"microsoft/Phi-3-mini-4k-instruct\"\n",
    "prompt_type = \"step_by_step\"\n",
    "prompt = get_prompt(prompt_type)\n",
    "parser = get_parser(\"answer\")\n",
    "pipe, tokenizer = get_pipeline(model_id)\n",
    "formater = get_prompt_formater(\"chat-user\", prompt, tokenizer)"
   ]
  },
  {
   "cell_type": "code",
   "execution_count": 15,
   "metadata": {},
   "outputs": [
    {
     "data": {
      "application/vnd.jupyter.widget-view+json": {
       "model_id": "96bbc4af852d4a70986114b3b74c8b7f",
       "version_major": 2,
       "version_minor": 0
      },
      "text/plain": [
       "  0%|          | 0/2109 [00:00<?, ?it/s]"
      ]
     },
     "metadata": {},
     "output_type": "display_data"
    },
    {
     "name": "stderr",
     "output_type": "stream",
     "text": [
      "You are not running the flash-attention implementation, expect numerical differences.\n"
     ]
    }
   ],
   "source": [
    "generation_dataset = evaluate(pipe, parser, formater, cm_dataset, f\"{prompt_type}/Phi-3\", 500, verbose=False)"
   ]
  },
  {
   "cell_type": "code",
   "execution_count": null,
   "metadata": {},
   "outputs": [],
   "source": []
  }
 ],
 "metadata": {
  "kernelspec": {
   "display_name": "Python 3 (ipykernel)",
   "language": "python",
   "name": "python3"
  },
  "language_info": {
   "codemirror_mode": {
    "name": "ipython",
    "version": 3
   },
   "file_extension": ".py",
   "mimetype": "text/x-python",
   "name": "python",
   "nbconvert_exporter": "python",
   "pygments_lexer": "ipython3",
   "version": "3.10.12"
  }
 },
 "nbformat": 4,
 "nbformat_minor": 2
}
