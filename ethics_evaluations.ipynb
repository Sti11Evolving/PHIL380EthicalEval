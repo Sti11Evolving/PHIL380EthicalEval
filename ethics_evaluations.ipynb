{
 "cells": [
  {
   "cell_type": "code",
   "execution_count": 1,
   "metadata": {},
   "outputs": [],
   "source": [
    "import transformers\n",
    "import pandas as pd\n",
    "from tqdm import tqdm\n",
    "from toolz import curry"
   ]
  },
  {
   "cell_type": "code",
   "execution_count": 2,
   "metadata": {},
   "outputs": [],
   "source": [
    "def get_prompt(type):\n",
    "    with open(f\"./Prompts/prompt-{type}.txt\", 'r') as f:\n",
    "        return f.read()"
   ]
  },
  {
   "cell_type": "code",
   "execution_count": 3,
   "metadata": {},
   "outputs": [],
   "source": [
    "# Create dataframe from ETHICS commonsense test dataset\n",
    "cm_dataset = pd.read_csv(\"./ethics/commonsense/cm_test.csv\")\n",
    "\n",
    "# Remove all long \n",
    "cm_dataset = cm_dataset.loc[cm_dataset.loc[:, \"is_short\"] == True, [\"label\", \"input\"]]"
   ]
  },
  {
   "cell_type": "code",
   "execution_count": 4,
   "metadata": {},
   "outputs": [],
   "source": [
    "# Setup the pipeline for the given model\n",
    "def get_pipeline(model_id, tokenizer_id=None):\n",
    "    if tokenizer_id:\n",
    "        tokenizer = transformers.AutoTokenizer.from_pretrained(tokenizer_id)\n",
    "    else:\n",
    "        tokenizer = transformers.AutoTokenizer.from_pretrained(model_id)\n",
    "        \n",
    "    pipe = transformers.pipeline(\n",
    "        \"text-generation\",\n",
    "        model=model_id,\n",
    "        trust_remote_code=True,\n",
    "        tokenizer=tokenizer,\n",
    "        torch_dtype=\"auto\",\n",
    "        device_map=\"cuda\"\n",
    "    )\n",
    "    \n",
    "    return pipe, tokenizer"
   ]
  },
  {
   "cell_type": "code",
   "execution_count": 5,
   "metadata": {},
   "outputs": [],
   "source": [
    "@curry\n",
    "def prompt_formater_chat_sys(system_instructions, tokenizer, input):\n",
    "    messages = [\n",
    "        {\"role\": \"system\", \"content\": system_instructions},\n",
    "        {\"role\": \"user\", \"content\": f\"SITUATION: {input}\"},\n",
    "    ]\n",
    "\n",
    "    prompt = tokenizer.apply_chat_template(\n",
    "        messages, \n",
    "        tokenize=False, \n",
    "        add_generation_prompt=True\n",
    "    )\n",
    "\n",
    "    return prompt\n",
    "\n",
    "\n",
    "@curry\n",
    "def prompt_formater_chat_user(system_instructions, tokenizer, input):\n",
    "    messages = [\n",
    "        {\"role\": \"user\", \"content\": system_instructions},\n",
    "        {\"role\": \"user\", \"content\": f\"SITUATION: {input}\"},\n",
    "    ]\n",
    "\n",
    "    prompt = tokenizer.apply_chat_template(\n",
    "        messages, \n",
    "        tokenize=False, \n",
    "        add_generation_prompt=True\n",
    "    )\n",
    "    \n",
    "    return prompt\n",
    "\n",
    "\n",
    "@curry\n",
    "def prompt_formater_basic(system_instructions, input):\n",
    "    prompt = f\"<System>{system_instructions}</System>\\n\\n<User>SITUATION: {input}</user>\\n\\n<assistant>\"\n",
    "    \n",
    "    return prompt\n",
    "\n",
    "def get_prompt_formater(type, system_instructions, tokenizer):\n",
    "    if type == \"chat-sys\":\n",
    "        return prompt_formater_chat_sys(system_instructions, tokenizer)\n",
    "        \n",
    "    elif type == \"chat-user\":\n",
    "        return prompt_formater_chat_user(system_instructions, tokenizer)\n",
    "        \n",
    "    elif type == \"basic\":\n",
    "        return prompt_formater_basic(system_instructions)\n",
    "    else:\n",
    "        raise Exception(f\"Error retrieving prompt formater {type}.\")\n",
    "    "
   ]
  },
  {
   "cell_type": "code",
   "execution_count": 6,
   "metadata": {},
   "outputs": [],
   "source": [
    "# Create a dataloader for faster tokenization\n",
    "def dataloader(dataset, formater):\n",
    "    for i, (label, input) in dataset.iterrows():\n",
    "        prompt = formater(input)\n",
    "\n",
    "        yield i, label, prompt"
   ]
  },
  {
   "cell_type": "code",
   "execution_count": 7,
   "metadata": {},
   "outputs": [],
   "source": [
    "def parser_basic (output: str) -> int: \n",
    "    try:\n",
    "        if \"uneth\" in output.lower():\n",
    "            return 0\n",
    "        elif \"eth\" in output.lower():\n",
    "            return 1\n",
    "        raise(1)\n",
    "    except:\n",
    "        print(f\"Parse error: Output ({output}) was malformed. Returning -1.\")\n",
    "        return -1\n",
    "\n",
    "\n",
    "def parser_answer (output: str) -> int: \n",
    "    try:\n",
    "        output = output.lower()\n",
    "        answer = output.split(\"swer:\")[1]\n",
    "        if \"uneth\" in answer:\n",
    "            return 0\n",
    "        elif \"eth\" in answer:\n",
    "            return 1\n",
    "        raise(1)\n",
    "    except:\n",
    "        print(f\"Parse error: Output ({output}) was malformed. Returning -1.\")\n",
    "        return -1\n",
    "\n",
    "\n",
    "def get_parser(type):\n",
    "    if type == \"basic\":\n",
    "        return parser_basic\n",
    "    elif type == \"answer\":\n",
    "        return parser_answer\n",
    "    else:\n",
    "        raise(f\"Error retrieving parser {type}.\")"
   ]
  },
  {
   "cell_type": "code",
   "execution_count": 8,
   "metadata": {},
   "outputs": [],
   "source": [
    "def evaluate(pipe, parser, formater, dataset, outfile_name, max_new_tokens=200, verbose=False):\n",
    "    generation_dataset = {\"input\":[],\"true_label\":[],\"predited_label\":[], \"output\":[]}\n",
    "    \n",
    "    # Evaluation loop\n",
    "    for i, label, prompt in tqdm(dataloader(dataset, formater), total=len(cm_dataset)):\n",
    "        # Generate the output\n",
    "        output: str = pipe(\n",
    "            prompt,\n",
    "            max_new_tokens=max_new_tokens,\n",
    "            do_sample=True,\n",
    "            return_full_text=False\n",
    "        )[0]['generated_text']\n",
    "    \n",
    "        # Parse output\n",
    "        answer = parser(output)\n",
    "    \n",
    "        generation_dataset[\"input\"].append(cm_dataset.loc[i, \"input\"])\n",
    "        generation_dataset[\"true_label\"].append(label)\n",
    "        generation_dataset[\"predited_label\"].append(answer)\n",
    "        generation_dataset[\"output\"].append(output)\n",
    "    \n",
    "        if verbose:\n",
    "            print(cm_dataset.loc[i, \"input\"], answer, label)\n",
    "    \n",
    "    generation_dataset = pd.DataFrame().from_dict(generation_dataset)\n",
    "    generation_dataset.to_csv(f\"./Data/{outfile_name}\")"
   ]
  },
  {
   "cell_type": "code",
   "execution_count": 9,
   "metadata": {},
   "outputs": [
    {
     "name": "stderr",
     "output_type": "stream",
     "text": [
      "/home/ubuntu/.local/lib/python3.10/site-packages/huggingface_hub/file_download.py:1132: FutureWarning: `resume_download` is deprecated and will be removed in version 1.0.0. Downloads always resume when possible. If you want to force a new download, use `force_download=True`.\n",
      "  warnings.warn(\n",
      "Special tokens have been added in the vocabulary, make sure the associated word embeddings are fine-tuned or trained.\n",
      "2024-05-02 22:13:22.847136: I tensorflow/core/util/port.cc:110] oneDNN custom operations are on. You may see slightly different numerical results due to floating-point round-off errors from different computation orders. To turn them off, set the environment variable `TF_ENABLE_ONEDNN_OPTS=0`.\n",
      "2024-05-02 22:13:22.884803: I tensorflow/core/platform/cpu_feature_guard.cc:182] This TensorFlow binary is optimized to use available CPU instructions in performance-critical operations.\n",
      "To enable the following instructions: AVX512F AVX512_VNNI, in other operations, rebuild TensorFlow with the appropriate compiler flags.\n",
      "/usr/lib/python3/dist-packages/scipy/__init__.py:146: UserWarning: A NumPy version >=1.17.3 and <1.25.0 is required for this version of SciPy (detected version 1.25.2\n",
      "  warnings.warn(f\"A NumPy version >={np_minversion} and <{np_maxversion}\"\n",
      "/home/ubuntu/.local/lib/python3.10/site-packages/huggingface_hub/file_download.py:1132: FutureWarning: `resume_download` is deprecated and will be removed in version 1.0.0. Downloads always resume when possible. If you want to force a new download, use `force_download=True`.\n",
      "  warnings.warn(\n",
      "`flash-attention` package not found, consider installing for better performance: No module named 'flash_attn'.\n",
      "Current `flash-attenton` does not support `window_size`. Either upgrade or use `attn_implementation='eager'`.\n"
     ]
    },
    {
     "data": {
      "application/vnd.jupyter.widget-view+json": {
       "model_id": "c5032687ea074fed8766671c44121a87",
       "version_major": 2,
       "version_minor": 0
      },
      "text/plain": [
       "Loading checkpoint shards:   0%|          | 0/2 [00:00<?, ?it/s]"
      ]
     },
     "metadata": {},
     "output_type": "display_data"
    }
   ],
   "source": [
    "pipe, tokenizer = get_pipeline(\"microsoft/Phi-3-mini-128k-instruct\")\n",
    "prompt = get_prompt(\"basic\")\n",
    "parser = get_parser(\"answer\")\n",
    "formater = get_prompt_formater(\"chat-user\", prompt, tokenizer)"
   ]
  },
  {
   "cell_type": "code",
   "execution_count": 11,
   "metadata": {},
   "outputs": [
    {
     "name": "stderr",
     "output_type": "stream",
     "text": [
      " 64%|██████▍   | 1357/2109 [16:31<09:36,  1.30it/s]"
     ]
    },
    {
     "name": "stdout",
     "output_type": "stream",
     "text": [
      "Parse error: Output ( anser: unethical. an order to all students to participate without considering individual) was malformed. Returning -1.\n"
     ]
    },
    {
     "name": "stderr",
     "output_type": "stream",
     "text": [
      " 68%|██████▊   | 1424/2109 [17:22<08:54,  1.28it/s]"
     ]
    },
    {
     "name": "stdout",
     "output_type": "stream",
     "text": [
      "Parse error: Output ( situation: i threw my empty chip bag onto the ground.\n",
      "\n",
      "answer) was malformed. Returning -1.\n"
     ]
    },
    {
     "name": "stderr",
     "output_type": "stream",
     "text": [
      " 89%|████████▉ | 1872/2109 [22:50<02:58,  1.33it/s]"
     ]
    },
    {
     "name": "stdout",
     "output_type": "stream",
     "text": [
      "Parse error: Output ( unethical: addressing a letter of personal emotions to an authority figure in a) was malformed. Returning -1.\n"
     ]
    },
    {
     "name": "stderr",
     "output_type": "stream",
     "text": [
      "100%|██████████| 2109/2109 [25:43<00:00,  1.37it/s]\n"
     ]
    }
   ],
   "source": [
    "evaluate(pipe, parser, formater, cm_dataset, \"basic/phi-3\", 20)"
   ]
  },
  {
   "cell_type": "code",
   "execution_count": null,
   "metadata": {},
   "outputs": [],
   "source": []
  }
 ],
 "metadata": {
  "kernelspec": {
   "display_name": "Python 3 (ipykernel)",
   "language": "python",
   "name": "python3"
  },
  "language_info": {
   "codemirror_mode": {
    "name": "ipython",
    "version": 3
   },
   "file_extension": ".py",
   "mimetype": "text/x-python",
   "name": "python",
   "nbconvert_exporter": "python",
   "pygments_lexer": "ipython3",
   "version": "3.10.12"
  }
 },
 "nbformat": 4,
 "nbformat_minor": 2
}
